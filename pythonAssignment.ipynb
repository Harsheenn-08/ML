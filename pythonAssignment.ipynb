{
  "nbformat": 4,
  "nbformat_minor": 0,
  "metadata": {
    "colab": {
      "provenance": []
    },
    "kernelspec": {
      "name": "python3",
      "display_name": "Python 3"
    },
    "language_info": {
      "name": "python"
    }
  },
  "cells": [
    {
      "cell_type": "code",
      "execution_count": null,
      "metadata": {
        "colab": {
          "base_uri": "https://localhost:8080/"
        },
        "id": "EwLrWf8cpai-",
        "outputId": "f48b1648-9a2d-4261-dc5a-b7a188a46b1b"
      },
      "outputs": [
        {
          "output_type": "stream",
          "name": "stdout",
          "text": [
            "[11, 12, 13, 14, 50, 60]\n"
          ]
        }
      ],
      "source": [
        "L=[11,12,13,14]\n",
        "L.append(50)\n",
        "L.append(60)\n",
        "print(L)"
      ]
    },
    {
      "cell_type": "code",
      "source": [
        "L.remove(13)\n",
        "L.remove(11)\n",
        "print(L)"
      ],
      "metadata": {
        "colab": {
          "base_uri": "https://localhost:8080/"
        },
        "id": "CYtV55jipq7y",
        "outputId": "b5305a71-fd89-44e5-ffc4-a3ef4e575672"
      },
      "execution_count": null,
      "outputs": [
        {
          "output_type": "stream",
          "name": "stdout",
          "text": [
            "[12, 14, 50, 60]\n"
          ]
        }
      ]
    },
    {
      "cell_type": "code",
      "source": [
        "L.sort()\n",
        "print(L)\n",
        "L.sort(reverse=True)\n",
        "print(L)"
      ],
      "metadata": {
        "colab": {
          "base_uri": "https://localhost:8080/"
        },
        "id": "k1GxlS0Mp5W9",
        "outputId": "c490c5cd-da4a-48ce-d4b2-90bd34b3e22b"
      },
      "execution_count": null,
      "outputs": [
        {
          "output_type": "stream",
          "name": "stdout",
          "text": [
            "[12, 14, 50, 60]\n",
            "[60, 50, 14, 12]\n"
          ]
        }
      ]
    },
    {
      "cell_type": "code",
      "source": [
        "print(13 in L)\n",
        "if 13 in L == True:\n",
        "  print(\"Present\")\n",
        "else:\n",
        "  print(\"Not Present\")\n"
      ],
      "metadata": {
        "colab": {
          "base_uri": "https://localhost:8080/"
        },
        "id": "M7jWc8r2p_yQ",
        "outputId": "5d7b84b5-8269-4d27-beda-f56610764f81"
      },
      "execution_count": null,
      "outputs": [
        {
          "output_type": "stream",
          "name": "stdout",
          "text": [
            "False\n",
            "Not Present\n"
          ]
        }
      ]
    },
    {
      "cell_type": "code",
      "source": [
        "print(\"Count of elements in L is : \",len(L))"
      ],
      "metadata": {
        "colab": {
          "base_uri": "https://localhost:8080/"
        },
        "id": "TAkPrr_7qRZx",
        "outputId": "79ae192d-efed-4d59-a51a-8f1f1e3fd325"
      },
      "execution_count": null,
      "outputs": [
        {
          "output_type": "stream",
          "name": "stdout",
          "text": [
            "Count of elements in L is :  4\n"
          ]
        }
      ]
    },
    {
      "cell_type": "code",
      "source": [
        "print(\"Sum of all elements in L is : \",sum(L))"
      ],
      "metadata": {
        "colab": {
          "base_uri": "https://localhost:8080/"
        },
        "id": "V6MSTSo6qYfN",
        "outputId": "28d1055d-fde4-4ff1-c5a1-a522dfb11a97"
      },
      "execution_count": null,
      "outputs": [
        {
          "output_type": "stream",
          "name": "stdout",
          "text": [
            "Sum of all elements in L is :  136\n"
          ]
        }
      ]
    },
    {
      "cell_type": "code",
      "source": [
        "Odd_sum=0\n",
        "for i in L:\n",
        "  if i%2 != 0:\n",
        "    Odd_sum += i\n",
        "print(\"Sum of all odd elements in L is : \",Odd_sum)"
      ],
      "metadata": {
        "colab": {
          "base_uri": "https://localhost:8080/"
        },
        "id": "ZAKWCzViqhm8",
        "outputId": "d11db9de-9f72-4efd-dc45-bf5ee91f4203"
      },
      "execution_count": null,
      "outputs": [
        {
          "output_type": "stream",
          "name": "stdout",
          "text": [
            "Sum of all odd elements in L is :  0\n"
          ]
        }
      ]
    },
    {
      "cell_type": "code",
      "source": [
        "Even_sum=0\n",
        "for i in L:\n",
        "  if i%2 == 0:\n",
        "    Even_sum += i\n",
        "print(\"Sum of all odd elements in L is : \",Even_sum)"
      ],
      "metadata": {
        "colab": {
          "base_uri": "https://localhost:8080/"
        },
        "id": "1JZyzaIyqt_f",
        "outputId": "3888388b-585f-4d8b-b2a7-dec5399ead1e"
      },
      "execution_count": null,
      "outputs": [
        {
          "output_type": "stream",
          "name": "stdout",
          "text": [
            "Sum of all odd elements in L is :  136\n"
          ]
        }
      ]
    },
    {
      "cell_type": "code",
      "source": [
        "def isprime(n):\n",
        "  if n<2:\n",
        "    return True\n",
        "  for i in range(2,n//2+1):\n",
        "    if n%i == 0:\n",
        "      return False\n",
        "  return True\n",
        "\n",
        "prime_sum=0\n",
        "for i in L:\n",
        "  if isprime(i):\n",
        "    prime_sum+=i\n",
        "print(\"Prime numbers sum is : \",prime_sum)"
      ],
      "metadata": {
        "colab": {
          "base_uri": "https://localhost:8080/"
        },
        "id": "_PQeogvSq2cH",
        "outputId": "a332af49-c090-4e6d-d82c-19ef7eb08ec8"
      },
      "execution_count": null,
      "outputs": [
        {
          "output_type": "stream",
          "name": "stdout",
          "text": [
            "Prime numbers sum is :  0\n"
          ]
        }
      ]
    },
    {
      "cell_type": "code",
      "source": [
        "L.clear()\n",
        "print(L)"
      ],
      "metadata": {
        "colab": {
          "base_uri": "https://localhost:8080/"
        },
        "id": "ZXv7RpptrEaJ",
        "outputId": "89d2e4b5-e244-4c56-a916-21c44933f4e3"
      },
      "execution_count": null,
      "outputs": [
        {
          "output_type": "stream",
          "name": "stdout",
          "text": [
            "[]\n"
          ]
        }
      ]
    },
    {
      "cell_type": "code",
      "source": [
        "del L\n",
        "print(L)"
      ],
      "metadata": {
        "colab": {
          "base_uri": "https://localhost:8080/",
          "height": 159
        },
        "id": "4LNyOFL4ri0G",
        "outputId": "8f5fee77-ab50-4377-a013-8a2ac5ab6674"
      },
      "execution_count": null,
      "outputs": [
        {
          "output_type": "error",
          "ename": "NameError",
          "evalue": "name 'L' is not defined",
          "traceback": [
            "\u001b[0;31m---------------------------------------------------------------------------\u001b[0m",
            "\u001b[0;31mNameError\u001b[0m                                 Traceback (most recent call last)",
            "\u001b[0;32m<ipython-input-15-2350757006>\u001b[0m in \u001b[0;36m<cell line: 0>\u001b[0;34m()\u001b[0m\n\u001b[1;32m      1\u001b[0m \u001b[0;32mdel\u001b[0m \u001b[0mL\u001b[0m\u001b[0;34m\u001b[0m\u001b[0;34m\u001b[0m\u001b[0m\n\u001b[0;32m----> 2\u001b[0;31m \u001b[0mprint\u001b[0m\u001b[0;34m(\u001b[0m\u001b[0mL\u001b[0m\u001b[0;34m)\u001b[0m\u001b[0;34m\u001b[0m\u001b[0;34m\u001b[0m\u001b[0m\n\u001b[0m",
            "\u001b[0;31mNameError\u001b[0m: name 'L' is not defined"
          ]
        }
      ]
    },
    {
      "cell_type": "code",
      "source": [
        "D={1:5.6,2:7.8,3:6.6,4:8.7,5:7.7}\n",
        "D[8]=8.8\n",
        "print(D)"
      ],
      "metadata": {
        "colab": {
          "base_uri": "https://localhost:8080/"
        },
        "id": "KKpgtJ2PrlHL",
        "outputId": "e832573d-7497-4326-f5e7-cc4163ba4e48"
      },
      "execution_count": null,
      "outputs": [
        {
          "output_type": "stream",
          "name": "stdout",
          "text": [
            "{1: 5.6, 2: 7.8, 3: 6.6, 4: 8.7, 5: 7.7, 8: 8.8}\n"
          ]
        }
      ]
    },
    {
      "cell_type": "code",
      "source": [
        "del D[2]\n",
        "print(D)"
      ],
      "metadata": {
        "colab": {
          "base_uri": "https://localhost:8080/"
        },
        "id": "ogwt-s_rryS5",
        "outputId": "bab61efa-0a90-463d-f2d5-f51e8bb99f0c"
      },
      "execution_count": null,
      "outputs": [
        {
          "output_type": "stream",
          "name": "stdout",
          "text": [
            "{1: 5.6, 3: 6.6, 4: 8.7, 5: 7.7, 8: 8.8}\n"
          ]
        }
      ]
    },
    {
      "cell_type": "code",
      "source": [
        "print(6 in D)\n",
        "if 6 in D:\n",
        "  print(\"present\")\n",
        "else:\n",
        "  print(\"not present\")"
      ],
      "metadata": {
        "colab": {
          "base_uri": "https://localhost:8080/"
        },
        "id": "SnsjcdsHsPIK",
        "outputId": "8659f2d7-d77b-4ef2-931b-1cc9e1dd86d3"
      },
      "execution_count": null,
      "outputs": [
        {
          "output_type": "stream",
          "name": "stdout",
          "text": [
            "False\n",
            "not present\n"
          ]
        }
      ]
    },
    {
      "cell_type": "code",
      "source": [
        "print(\"Sum of all elements in D is: \",sum(D))"
      ],
      "metadata": {
        "colab": {
          "base_uri": "https://localhost:8080/"
        },
        "id": "24ULFqynsq3f",
        "outputId": "1580a6dc-084c-421d-8043-3e8d70e32574"
      },
      "execution_count": null,
      "outputs": [
        {
          "output_type": "stream",
          "name": "stdout",
          "text": [
            "Sum of all elements in D is:  21\n"
          ]
        }
      ]
    },
    {
      "cell_type": "code",
      "source": [
        "print(\"Sum of values is:\",sum(D.values()))"
      ],
      "metadata": {
        "colab": {
          "base_uri": "https://localhost:8080/"
        },
        "id": "wn5UyvLmtElJ",
        "outputId": "9c3f537a-f917-430c-be12-ef460538b782"
      },
      "execution_count": null,
      "outputs": [
        {
          "output_type": "stream",
          "name": "stdout",
          "text": [
            "Sum of values is: 37.4\n"
          ]
        }
      ]
    },
    {
      "cell_type": "code",
      "source": [
        "D[3]=7.1\n",
        "print(D)"
      ],
      "metadata": {
        "colab": {
          "base_uri": "https://localhost:8080/"
        },
        "id": "TRQgjWlktLEa",
        "outputId": "4cc5efc1-b114-47c2-99a1-a7108c94da17"
      },
      "execution_count": null,
      "outputs": [
        {
          "output_type": "stream",
          "name": "stdout",
          "text": [
            "{1: 5.6, 3: 7.1, 4: 8.7, 5: 7.7, 8: 8.8}\n"
          ]
        }
      ]
    },
    {
      "cell_type": "code",
      "source": [
        "D.clear()\n",
        "print(D)"
      ],
      "metadata": {
        "colab": {
          "base_uri": "https://localhost:8080/"
        },
        "id": "q-C6X6ZttbQq",
        "outputId": "a6228717-1c39-46f4-ac63-7ff676c4e1c2"
      },
      "execution_count": null,
      "outputs": [
        {
          "output_type": "stream",
          "name": "stdout",
          "text": [
            "{}\n"
          ]
        }
      ]
    },
    {
      "cell_type": "code",
      "source": [
        "S1={10,20,30,40,50,60}\n",
        "S2={40,50,60,70,80,90}\n",
        "S1.add(55)\n",
        "S1.add(66)\n",
        "print(S1)"
      ],
      "metadata": {
        "colab": {
          "base_uri": "https://localhost:8080/"
        },
        "id": "aojvMDmmthkt",
        "outputId": "d5a7336d-9672-40f1-e83a-0ee4b836ed14"
      },
      "execution_count": null,
      "outputs": [
        {
          "output_type": "stream",
          "name": "stdout",
          "text": [
            "{50, 66, 20, 55, 40, 10, 60, 30}\n"
          ]
        }
      ]
    },
    {
      "cell_type": "code",
      "source": [
        "S1.remove(10)\n",
        "S1.remove(30)\n",
        "print(S1)"
      ],
      "metadata": {
        "colab": {
          "base_uri": "https://localhost:8080/"
        },
        "id": "V6fjEiWlty1B",
        "outputId": "86f89e7c-a480-4cdd-ef50-42a30b226649"
      },
      "execution_count": null,
      "outputs": [
        {
          "output_type": "stream",
          "name": "stdout",
          "text": [
            "{50, 66, 20, 55, 40, 60}\n"
          ]
        }
      ]
    },
    {
      "cell_type": "code",
      "source": [
        "print( 40 in S1)\n",
        "if 40 in S1:\n",
        "  print(\"Present\")\n",
        "else:\n",
        "  print(\"Not Present\")"
      ],
      "metadata": {
        "colab": {
          "base_uri": "https://localhost:8080/"
        },
        "id": "8gmMRh6pt4R0",
        "outputId": "616fecc9-78cb-4519-ebbd-b16d43a3118d"
      },
      "execution_count": null,
      "outputs": [
        {
          "output_type": "stream",
          "name": "stdout",
          "text": [
            "True\n",
            "Present\n"
          ]
        }
      ]
    },
    {
      "cell_type": "code",
      "source": [
        "print(\"union:\",S1.union(S2))\n",
        "print(\"intersection:\",S1.intersection(S2))\n",
        "print(\"difference:\",S1.difference(S2))"
      ],
      "metadata": {
        "colab": {
          "base_uri": "https://localhost:8080/"
        },
        "id": "i0oaBkpwuONK",
        "outputId": "1c17e3c3-eba0-41e2-dea9-aec37a437f10"
      },
      "execution_count": null,
      "outputs": [
        {
          "output_type": "stream",
          "name": "stdout",
          "text": [
            "union: {66, 70, 40, 80, 50, 20, 55, 90, 60}\n",
            "intersection: {40, 50, 60}\n",
            "difference: {66, 20, 55}\n"
          ]
        }
      ]
    },
    {
      "cell_type": "code",
      "source": [
        "import random as r\n",
        "import string as s\n",
        "\n",
        "print(s.ascii_letters)\n",
        "lb=6\n",
        "ub=8\n",
        "for i in range (100):\n",
        "  length=r.randint(lb,ub)\n",
        "  print(''.join(r.sample(s.ascii_letters,length)))"
      ],
      "metadata": {
        "colab": {
          "base_uri": "https://localhost:8080/"
        },
        "id": "GE0z3ljyvCu6",
        "outputId": "0ce91175-0e86-4246-f1fc-e35fa866f348"
      },
      "execution_count": null,
      "outputs": [
        {
          "output_type": "stream",
          "name": "stdout",
          "text": [
            "abcdefghijklmnopqrstuvwxyzABCDEFGHIJKLMNOPQRSTUVWXYZ\n",
            "JHGBCz\n",
            "stGCrRh\n",
            "VItKer\n",
            "gMulZRTW\n",
            "uMDowT\n",
            "NGAuVHW\n",
            "NUhYXbzd\n",
            "BKEwrpM\n",
            "fqGsNAE\n",
            "ewNlQgY\n",
            "slXGUtBS\n",
            "lWCLpqm\n",
            "FNwioGHT\n",
            "YRVlPtAZ\n",
            "eYjSPoK\n",
            "QlnpRCyG\n",
            "LiHlCE\n",
            "oUmtwFVj\n",
            "BlLptDV\n",
            "jBWHRFEM\n",
            "mCVaOj\n",
            "hBSQYL\n",
            "PQSyGAd\n",
            "TpJukmw\n",
            "gVMjpB\n",
            "dGLnflwm\n",
            "FuETwI\n",
            "yrDEVS\n",
            "qgWLCzs\n",
            "KXMeCjFi\n",
            "YDxTNZu\n",
            "WtOCeRQp\n",
            "kctAUj\n",
            "MyDPTi\n",
            "kEHMRA\n",
            "DUdPqLZ\n",
            "AtGbLRIw\n",
            "AViGkS\n",
            "OSDENlZ\n",
            "weusxaV\n",
            "KEzQqp\n",
            "NueqWk\n",
            "syjRvOGb\n",
            "NIMuaLT\n",
            "VwUHJFd\n",
            "nzkYmOAu\n",
            "ahWkglSL\n",
            "ONHplh\n",
            "JewSup\n",
            "emJYfSHx\n",
            "huUxQXIF\n",
            "TheQRn\n",
            "dbJXypg\n",
            "CnvPBKuN\n",
            "NjEKozi\n",
            "zDTGhcWK\n",
            "qpTNVy\n",
            "fCJdTp\n",
            "BTIskwRo\n",
            "UWJqEX\n",
            "BvGQMDcn\n",
            "MwOXSB\n",
            "lqmxut\n",
            "ROhndLq\n",
            "mpgFrbJ\n",
            "NfswIzjV\n",
            "acGsuwIW\n",
            "aSIBig\n",
            "cKeNutFU\n",
            "tVxjSi\n",
            "lUNtZjIy\n",
            "tPcqROlK\n",
            "ikGbJvD\n",
            "mPFWfZCy\n",
            "TIofQx\n",
            "kiuFZw\n",
            "JoHYEPBw\n",
            "MgcVWj\n",
            "TpORkEf\n",
            "dEWjCk\n",
            "mCyren\n",
            "xpWFyczJ\n",
            "mNvGcJ\n",
            "RIgZuQKE\n",
            "hIdEljb\n",
            "bZBjpHD\n",
            "qFwIpLv\n",
            "FcRbzekL\n",
            "TXFUveMD\n",
            "CgTsHfVb\n",
            "zLuWqS\n",
            "kzNCosqn\n",
            "HhQSDFCr\n",
            "HyqhPzkJ\n",
            "HuOlkE\n",
            "eSQfoLu\n",
            "cmfugh\n",
            "fDeIQCu\n",
            "PSLyoKn\n",
            "xQXmcRen\n"
          ]
        }
      ]
    },
    {
      "cell_type": "code",
      "source": [
        "def isprime(n):\n",
        "  if n<2:\n",
        "    return True\n",
        "  for i in range(2,n//2+1):\n",
        "    if n%i == 0:\n",
        "      return False\n",
        "  return True\n",
        "\n",
        "for i in range(600,800):\n",
        "  if isprime(i):\n",
        "    print(i)"
      ],
      "metadata": {
        "colab": {
          "base_uri": "https://localhost:8080/"
        },
        "id": "qpQfuhLKvlFn",
        "outputId": "8fb8d4b6-6199-4bc5-ba3e-3a2647591957"
      },
      "execution_count": null,
      "outputs": [
        {
          "output_type": "stream",
          "name": "stdout",
          "text": [
            "601\n",
            "607\n",
            "613\n",
            "617\n",
            "619\n",
            "631\n",
            "641\n",
            "643\n",
            "647\n",
            "653\n",
            "659\n",
            "661\n",
            "673\n",
            "677\n",
            "683\n",
            "691\n",
            "701\n",
            "709\n",
            "719\n",
            "727\n",
            "733\n",
            "739\n",
            "743\n",
            "751\n",
            "757\n",
            "761\n",
            "769\n",
            "773\n",
            "787\n",
            "797\n"
          ]
        }
      ]
    },
    {
      "cell_type": "code",
      "source": [
        "for i in range(100,1001):\n",
        "  if i%7 == 0 and i%9 == 0:\n",
        "    print(i)"
      ],
      "metadata": {
        "colab": {
          "base_uri": "https://localhost:8080/"
        },
        "id": "1cJ31iezwiza",
        "outputId": "83809a82-81d7-4f39-f256-d782b8cae159"
      },
      "execution_count": null,
      "outputs": [
        {
          "output_type": "stream",
          "name": "stdout",
          "text": [
            "126\n",
            "189\n",
            "252\n",
            "315\n",
            "378\n",
            "441\n",
            "504\n",
            "567\n",
            "630\n",
            "693\n",
            "756\n",
            "819\n",
            "882\n",
            "945\n"
          ]
        }
      ]
    },
    {
      "cell_type": "code",
      "source": [
        "import random\n",
        "list1 = [random.randint(10,30) for _ in range(10)]\n",
        "print(list1)\n",
        "list2 = [random.randint(10,30) for _ in range(10)]\n",
        "print(list2)\n",
        "\n",
        "common = list(set(list1) & set(list2))\n",
        "print(common)\n",
        "\n",
        "unique = list(set(list1) ^ set(list2))\n",
        "print(unique)\n",
        "\n",
        "print(min(list1))\n",
        "print(min(list2))\n",
        "\n",
        "print(max(list1))\n",
        "print(max(list2))\n",
        "\n",
        "print(sum(list1))\n",
        "print(sum(list2))"
      ],
      "metadata": {
        "colab": {
          "base_uri": "https://localhost:8080/"
        },
        "id": "xlX3IMzPwx9w",
        "outputId": "653492ad-5f50-4f58-d014-0f0f9e62f281"
      },
      "execution_count": null,
      "outputs": [
        {
          "output_type": "stream",
          "name": "stdout",
          "text": [
            "[17, 30, 11, 11, 25, 28, 13, 17, 13, 11]\n",
            "[22, 11, 23, 15, 17, 13, 17, 10, 10, 26]\n",
            "[17, 11, 13]\n",
            "[10, 15, 22, 23, 25, 26, 28, 30]\n",
            "11\n",
            "10\n",
            "30\n",
            "26\n",
            "176\n",
            "164\n"
          ]
        }
      ]
    },
    {
      "cell_type": "code",
      "source": [
        "import random\n",
        "List = [random.randint(100,900) for _ in range(100)]\n",
        "#print(List)\n",
        "\n",
        "count1=0\n",
        "for i in List:\n",
        "  if i%2 != 0:\n",
        "    print(\"odd:\",i)\n",
        "    count1=count1+1\n",
        "print(\"count of odd: \",count1)\n",
        "\n",
        "count2=0\n",
        "for i in List:\n",
        "  if i%2 == 0:\n",
        "    print(\"even:\",i)\n",
        "    count2=count2+1\n",
        "print(\"count of even:\",count2)\n",
        "\n",
        "def isprime(n):\n",
        "  if n<2:\n",
        "    return True\n",
        "  for i in range(2,n//2+1):\n",
        "    if n%i ==0:\n",
        "      return False\n",
        "  return True\n",
        "\n",
        "count3=0\n",
        "for i in List:\n",
        "  if isprime(i):\n",
        "    print(\"Prime: \",i)\n",
        "    count3=count3+1\n",
        "print(\"count of prime: \",count3)"
      ],
      "metadata": {
        "colab": {
          "base_uri": "https://localhost:8080/"
        },
        "id": "BBa4MG222Ina",
        "outputId": "19c5e3a6-f99c-48fa-d4a4-d210a0465d92"
      },
      "execution_count": null,
      "outputs": [
        {
          "output_type": "stream",
          "name": "stdout",
          "text": [
            "odd: 249\n",
            "odd: 101\n",
            "odd: 625\n",
            "odd: 775\n",
            "odd: 891\n",
            "odd: 721\n",
            "odd: 131\n",
            "odd: 441\n",
            "odd: 391\n",
            "odd: 633\n",
            "odd: 463\n",
            "odd: 261\n",
            "odd: 665\n",
            "odd: 649\n",
            "odd: 583\n",
            "odd: 849\n",
            "odd: 711\n",
            "odd: 495\n",
            "odd: 339\n",
            "odd: 879\n",
            "odd: 823\n",
            "odd: 299\n",
            "odd: 109\n",
            "odd: 335\n",
            "odd: 107\n",
            "odd: 889\n",
            "odd: 507\n",
            "odd: 101\n",
            "odd: 745\n",
            "odd: 539\n",
            "odd: 773\n",
            "odd: 409\n",
            "odd: 517\n",
            "odd: 595\n",
            "odd: 621\n",
            "odd: 807\n",
            "odd: 383\n",
            "odd: 611\n",
            "odd: 303\n",
            "odd: 791\n",
            "odd: 171\n",
            "odd: 551\n",
            "odd: 637\n",
            "count of odd:  43\n",
            "even: 678\n",
            "even: 510\n",
            "even: 330\n",
            "even: 192\n",
            "even: 254\n",
            "even: 300\n",
            "even: 606\n",
            "even: 694\n",
            "even: 612\n",
            "even: 470\n",
            "even: 470\n",
            "even: 612\n",
            "even: 746\n",
            "even: 450\n",
            "even: 706\n",
            "even: 408\n",
            "even: 826\n",
            "even: 706\n",
            "even: 408\n",
            "even: 678\n",
            "even: 336\n",
            "even: 124\n",
            "even: 382\n",
            "even: 380\n",
            "even: 366\n",
            "even: 344\n",
            "even: 800\n",
            "even: 160\n",
            "even: 810\n",
            "even: 532\n",
            "even: 712\n",
            "even: 212\n",
            "even: 814\n",
            "even: 398\n",
            "even: 716\n",
            "even: 388\n",
            "even: 776\n",
            "even: 530\n",
            "even: 578\n",
            "even: 396\n",
            "even: 308\n",
            "even: 436\n",
            "even: 422\n",
            "even: 686\n",
            "even: 586\n",
            "even: 374\n",
            "even: 610\n",
            "even: 854\n",
            "even: 832\n",
            "even: 104\n",
            "even: 828\n",
            "even: 298\n",
            "even: 296\n",
            "even: 230\n",
            "even: 556\n",
            "even: 356\n",
            "even: 670\n",
            "count of even: 57\n",
            "Prime:  101\n",
            "Prime:  131\n",
            "Prime:  463\n",
            "Prime:  823\n",
            "Prime:  109\n",
            "Prime:  107\n",
            "Prime:  101\n",
            "Prime:  773\n",
            "Prime:  409\n",
            "Prime:  383\n",
            "count of prime:  10\n"
          ]
        }
      ]
    },
    {
      "cell_type": "code",
      "source": [
        "D={1:'One',2:'Two',3:'Three',4:'Four',5:'Five'}\n",
        "\n",
        "with open(\"output.txt\",\"w\") as file:\n",
        "  for key,value in D.items():\n",
        "    file.write(f\"{key},{value}\\n\")\n",
        "print(\"Data written to output.txt\")"
      ],
      "metadata": {
        "colab": {
          "base_uri": "https://localhost:8080/"
        },
        "id": "XDTZcGks3hnK",
        "outputId": "d1f99225-e1be-49cc-86dc-9c1f2d810c6b"
      },
      "execution_count": null,
      "outputs": [
        {
          "output_type": "stream",
          "name": "stdout",
          "text": [
            "Data written to output.txt\n"
          ]
        }
      ]
    },
    {
      "cell_type": "code",
      "source": [
        "L = [\"One\", \"Two\", \"Three\", \"Four\", \"Five\"]\n",
        "\n",
        "file = open(\"output1.txt\", \"w\")\n",
        "\n",
        "for word in L:\n",
        "    length = len(word)\n",
        "    file.write(word + \", \" + str(length) + \"\\n\")\n",
        "file.close()"
      ],
      "metadata": {
        "id": "BjaMprvX8AWW"
      },
      "execution_count": null,
      "outputs": []
    },
    {
      "cell_type": "code",
      "source": [
        "L=[\"One\",\"Two\",\"Three\",\"Four\",\"Five\"]\n",
        "\n",
        "file=open(\"Output2.txt\",\"w\")\n",
        "for word in L:\n",
        "  length=len(word)\n",
        "  file.write(word + \",\" + str(length)+\"\\n\")\n",
        "file.close()"
      ],
      "metadata": {
        "id": "YYiwD4Mp8rWW"
      },
      "execution_count": null,
      "outputs": []
    },
    {
      "cell_type": "code",
      "source": [
        "import random as r\n",
        "import string as s\n",
        "file=open(\"output3.txt\",\"w\")\n",
        "\n",
        "for i in range(100):\n",
        "  length = r.randint(10,15)\n",
        "  result=''\n",
        "  for j in range(length):\n",
        "    result += r.choice(s.ascii_letters)\n",
        "  file.write(result + \"\\n\")\n",
        "\n",
        "file.close()"
      ],
      "metadata": {
        "id": "I_7aO7pE6AFs"
      },
      "execution_count": null,
      "outputs": []
    },
    {
      "cell_type": "code",
      "source": [
        "file = open(\"prime.txt\",\"w\")\n",
        "\n",
        "for num in range(600,801):\n",
        "  is_print = True\n",
        "  if num<2:\n",
        "    is_prime=False\n",
        "  for i in range(2,num//2+1):\n",
        "    if num%i == 0:\n",
        "      is_prime=False\n",
        "      break\n",
        "  if is_prime:\n",
        "    file.write(str(num)+\"\\n\")\n",
        "file.close()\n"
      ],
      "metadata": {
        "id": "m0uUGCq46zQI"
      },
      "execution_count": null,
      "outputs": []
    },
    {
      "cell_type": "code",
      "source": [
        "import time\n",
        "\n",
        "start=time.time()\n",
        "total=0\n",
        "for i in range(1,1000001):\n",
        "  total+=i\n",
        "end=time.time()\n",
        "print(\"Time taken: \",end-start,\"seconds\")"
      ],
      "metadata": {
        "colab": {
          "base_uri": "https://localhost:8080/"
        },
        "id": "75Yo-0RX7rhv",
        "outputId": "487a8e00-6724-4157-da64-59c2073fb3f0"
      },
      "execution_count": null,
      "outputs": [
        {
          "output_type": "stream",
          "name": "stdout",
          "text": [
            "Time taken:  0.12266874313354492 seconds\n"
          ]
        }
      ]
    },
    {
      "cell_type": "code",
      "source": [
        "import random\n",
        "import time\n",
        "import matplotlib.pyplot as plt\n",
        "\n",
        "sizes=[5000,10000,15000,20000,25000]\n",
        "times=[]\n",
        "\n",
        "for size in sizes :\n",
        "  numbers=[]\n",
        "  for i in range(size):\n",
        "    numbers.append(random.randint(1,100000))\n",
        "\n",
        "  start=time.time()\n",
        "  numbers.sort()\n",
        "  end=time.time()\n",
        "\n",
        "  times.append(end-start)\n",
        "plt.plot(sizes,times,marker='o')\n",
        "plt.xlabel(\"Number of Elements\")\n",
        "plt.ylabel(\"Time Taken(seconds)\")\n",
        "plt.title(\"Sorting Time vs Number of Elements\")\n",
        "plt.grid(True)\n",
        "plt.show()"
      ],
      "metadata": {
        "colab": {
          "base_uri": "https://localhost:8080/",
          "height": 472
        },
        "id": "VwVKjQYT7-e9",
        "outputId": "87798f07-009b-4b8a-e173-505de72972e6"
      },
      "execution_count": null,
      "outputs": [
        {
          "output_type": "display_data",
          "data": {
            "text/plain": [
              "<Figure size 640x480 with 1 Axes>"
            ],
            "image/png": "[encoded data removed]"
          },
          "metadata": {}
        }
      ]
    },
    {
      "cell_type": "code",
      "source": [
        "students={\n",
        "    \"Amit\": [80, 85, 90, 88, 92],\n",
        "    \"Bina\": [70, 75, 72, 68, 74],\n",
        "    \"Chetan\": [95, 90, 94, 96, 98],\n",
        "    \"Deepa\": [60, 65, 58, 62, 64]\n",
        "}\n",
        "\n",
        "averages ={}\n",
        "\n",
        "for name in students:\n",
        "  marks=students[name]\n",
        "  avg=sum(marks)/len(marks)\n",
        "  averages[name]=avg\n",
        "\n",
        "max_name=max(averages,key=averages.get)\n",
        "min_name=min(averages,key=averages.get)\n",
        "\n",
        "print(\"Student with highest average:\", max_name, averages[max_name])\n",
        "print(\"Student with lowest average:\", min_name, averages[min_name])"
      ],
      "metadata": {
        "colab": {
          "base_uri": "https://localhost:8080/"
        },
        "id": "FiSIZDgJ9DAM",
        "outputId": "6a32caa6-a2eb-44ee-c525-11dd869f3b94"
      },
      "execution_count": null,
      "outputs": [
        {
          "output_type": "stream",
          "name": "stdout",
          "text": [
            "Student with highest average: Chetan 94.6\n",
            "Student with lowest average: Deepa 61.8\n"
          ]
        }
      ]
    }
  ]
}